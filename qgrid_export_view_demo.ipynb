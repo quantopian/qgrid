{
 "cells": [
  {
   "cell_type": "code",
   "execution_count": 15,
   "metadata": {
    "collapsed": false
   },
   "outputs": [],
   "source": [
    "import pandas as pd\n",
    "import numpy as np\n",
    "import qgrid\n",
    "\n",
    "df = pd.DataFrame(np.random.randn(6,4),\n",
    "    index=list('abcdef'),\n",
    "    columns=list('ABCD'))\n",
    "\n",
    "grid = qgrid.show_grid(df, show_toolbar=True)"
   ]
  },
  {
   "cell_type": "code",
   "execution_count": 17,
   "metadata": {
    "collapsed": false
   },
   "outputs": [],
   "source": [
    "filtered = None\n",
    "def callback(df):\n",
    "    global filtered\n",
    "    filtered = df\n",
    "    \n",
    "grid.export_view(callback)"
   ]
  },
  {
   "cell_type": "code",
   "execution_count": 18,
   "metadata": {
    "collapsed": false
   },
   "outputs": [
    {
     "data": {
      "text/html": [
       "<div>\n",
       "<table border=\"1\" class=\"dataframe\">\n",
       "  <thead>\n",
       "    <tr style=\"text-align: right;\">\n",
       "      <th></th>\n",
       "      <th>A</th>\n",
       "      <th>B</th>\n",
       "      <th>C</th>\n",
       "      <th>D</th>\n",
       "    </tr>\n",
       "  </thead>\n",
       "  <tbody>\n",
       "    <tr>\n",
       "      <th>0</th>\n",
       "      <td>0.47940</td>\n",
       "      <td>-0.94475</td>\n",
       "      <td>-1.20880</td>\n",
       "      <td>0.95058</td>\n",
       "    </tr>\n",
       "    <tr>\n",
       "      <th>1</th>\n",
       "      <td>1.97422</td>\n",
       "      <td>1.40290</td>\n",
       "      <td>-1.40673</td>\n",
       "      <td>0.53463</td>\n",
       "    </tr>\n",
       "  </tbody>\n",
       "</table>\n",
       "</div>"
      ],
      "text/plain": [
       "         A        B        C        D\n",
       "0  0.47940 -0.94475 -1.20880  0.95058\n",
       "1  1.97422  1.40290 -1.40673  0.53463"
      ]
     },
     "execution_count": 18,
     "metadata": {},
     "output_type": "execute_result"
    }
   ],
   "source": [
    "filtered"
   ]
  }
 ],
 "metadata": {
  "kernelspec": {
   "display_name": "Python [Root]",
   "language": "python",
   "name": "Python [Root]"
  },
  "language_info": {
   "codemirror_mode": {
    "name": "ipython",
    "version": 2
   },
   "file_extension": ".py",
   "mimetype": "text/x-python",
   "name": "python",
   "nbconvert_exporter": "python",
   "pygments_lexer": "ipython2",
   "version": "2.7.12"
  },
  "widgets": {
   "state": {
    "4fb1b18b2a55454eb6302229de167090": {
     "views": [
      {
       "cell_index": 0
      }
     ]
    },
    "9c7bbc47a63a4201ae3a3312405a489b": {
     "views": [
      {
       "cell_index": 0
      }
     ]
    },
    "bce66d801410466eb2a74f557d1c1150": {
     "views": [
      {
       "cell_index": 0
      }
     ]
    }
   },
   "version": "1.2.0"
  }
 },
 "nbformat": 4,
 "nbformat_minor": 0
}
